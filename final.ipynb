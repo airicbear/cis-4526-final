{
 "cells": [
  {
   "cell_type": "code",
   "execution_count": 1,
   "id": "a68ea2ab-5686-42e0-9f51-768332da6b30",
   "metadata": {
    "id": "a68ea2ab-5686-42e0-9f51-768332da6b30"
   },
   "outputs": [],
   "source": [
    "import pandas as pd\n",
    "import textdistance\n",
    "import torch\n",
    "import torch.nn as nn\n",
    "import torch.nn.functional as F\n",
    "from sklearn.metrics import f1_score"
   ]
  },
  {
   "cell_type": "code",
   "execution_count": 2,
   "id": "914600d0-3006-4868-acdc-cd549b66072d",
   "metadata": {
    "id": "914600d0-3006-4868-acdc-cd549b66072d"
   },
   "outputs": [],
   "source": [
    "train_filename = 'train_with_label.txt'\n",
    "dev_filename = 'dev_with_label.txt'\n",
    "test_filename = 'test_without_label.txt'"
   ]
  },
  {
   "cell_type": "code",
   "execution_count": 3,
   "id": "d4492b0a-e6d8-41a8-b2de-a1a7f0e1e435",
   "metadata": {
    "id": "d4492b0a-e6d8-41a8-b2de-a1a7f0e1e435"
   },
   "outputs": [],
   "source": [
    "def readdf(filename, has_label=True):\n",
    "    with open(filename, encoding='UTF-8') as file:\n",
    "        buffer = file.readlines()\n",
    "        \n",
    "        col_names = ['id', 's1', 's2']\n",
    "        if has_label:\n",
    "            col_names.append('label')\n",
    "            \n",
    "        df = pd.DataFrame([row.split('\\t') for row in buffer], columns=col_names)\n",
    "        \n",
    "        if has_label:\n",
    "            df.label = df.label.apply(lambda x: int(x.rstrip()))\n",
    "            \n",
    "        df.s1 = df.s1.apply(lambda x: x.lower())\n",
    "        df.s2 = df.s2.apply(lambda x: x.lower())\n",
    "        \n",
    "        return df"
   ]
  },
  {
   "cell_type": "code",
   "execution_count": 4,
   "id": "7545703b-d304-4bb8-82f7-2bc88511ec44",
   "metadata": {
    "id": "7545703b-d304-4bb8-82f7-2bc88511ec44"
   },
   "outputs": [],
   "source": [
    "train_df = readdf(train_filename)\n",
    "dev_df = readdf(dev_filename)\n",
    "test_df = readdf(test_filename, has_label=False)\n",
    "\n",
    "# Oversample\n",
    "train_df = pd.concat([train_df,\n",
    "                      train_df[train_df.label == 1],\n",
    "                      train_df[train_df.label == 1],\n",
    "                      train_df[train_df.label == 1].sample(201)])"
   ]
  },
  {
   "cell_type": "code",
   "execution_count": 5,
   "id": "8ec92843-420c-44bf-8f6e-3db83130821d",
   "metadata": {
    "id": "8ec92843-420c-44bf-8f6e-3db83130821d"
   },
   "outputs": [],
   "source": [
    "def feature(df, fn):\n",
    "    return pd.DataFrame([fn(s1,s2) for (s1,s2) in zip(df.s1, df.s2)])"
   ]
  },
  {
   "cell_type": "code",
   "execution_count": 6,
   "id": "1fd5891f-e4bc-4ffe-a3d6-982878e79391",
   "metadata": {
    "id": "1fd5891f-e4bc-4ffe-a3d6-982878e79391"
   },
   "outputs": [],
   "source": [
    "def features(df):\n",
    "    return pd.concat([\n",
    "        feature(df, textdistance.jaccard.normalized_similarity),\n",
    "        feature(df, textdistance.sorensen.normalized_similarity),\n",
    "        feature(df, textdistance.Cosine(qval=3).normalized_similarity),\n",
    "        feature(df, textdistance.Cosine(qval=4).normalized_similarity),\n",
    "        feature(df, textdistance.cosine.normalized_similarity),\n",
    "        feature(df, textdistance.levenshtein.normalized_similarity),\n",
    "    ], axis = 1)"
   ]
  },
  {
   "cell_type": "code",
   "execution_count": 7,
   "id": "d8cfaf05-d39e-4596-b63b-7c3c58056f65",
   "metadata": {
    "id": "d8cfaf05-d39e-4596-b63b-7c3c58056f65"
   },
   "outputs": [],
   "source": [
    "X_train = torch.FloatTensor(features(train_df).values)\n",
    "X_dev = torch.FloatTensor(features(dev_df).values)\n",
    "X_test = torch.FloatTensor(features(test_df).values)"
   ]
  },
  {
   "cell_type": "code",
   "execution_count": 8,
   "id": "1a90a8ff-186d-4ad6-9343-94d4408553f6",
   "metadata": {
    "id": "1a90a8ff-186d-4ad6-9343-94d4408553f6"
   },
   "outputs": [],
   "source": [
    "y_train = torch.LongTensor(train_df.label.values)\n",
    "y_dev = torch.LongTensor(dev_df.label.values)"
   ]
  },
  {
   "cell_type": "code",
   "execution_count": 9,
   "id": "4cb34b03-bfde-444a-9c0b-3d3bd74e4740",
   "metadata": {
    "id": "4cb34b03-bfde-444a-9c0b-3d3bd74e4740"
   },
   "outputs": [],
   "source": [
    "num_samples = len(train_df)\n",
    "num_input = X_train.size()[1]\n",
    "num_output = 2\n",
    "num_hidden = 20\n",
    "class Net(nn.Module):\n",
    "    def __init__(self):\n",
    "        super(Net, self).__init__()\n",
    "        self.fc1 = nn.Linear(num_input, num_hidden)\n",
    "        self.fc2 = nn.Linear(num_hidden, num_hidden)\n",
    "        self.out = nn.Linear(num_hidden, num_output)\n",
    "        \n",
    "    def forward(self, x):\n",
    "        x = F.relu(self.fc1(x))\n",
    "        x = F.relu(self.fc2(x))\n",
    "        x = self.out(x)\n",
    "        return x"
   ]
  },
  {
   "cell_type": "code",
   "execution_count": 10,
   "id": "5e0955b7-af7b-4eed-87a4-f4c798b6aa1f",
   "metadata": {},
   "outputs": [],
   "source": [
    "clf = Net()\n",
    "criterion = nn.CrossEntropyLoss()\n",
    "optimizer = torch.optim.SGD(clf.parameters(), lr=0.1)\n",
    "epochs = 12000\n",
    "for i in range(epochs):\n",
    "    y_hat = clf.forward(X_train)\n",
    "    loss = criterion(y_hat, y_train)\n",
    "    optimizer.zero_grad()\n",
    "    loss.backward()\n",
    "    optimizer.step()"
   ]
  },
  {
   "cell_type": "code",
   "execution_count": 11,
   "id": "2c2d4117-90dd-403b-936b-a706637a2cee",
   "metadata": {},
   "outputs": [
    {
     "data": {
      "text/plain": [
       "0.8101694915254237"
      ]
     },
     "execution_count": 11,
     "metadata": {},
     "output_type": "execute_result"
    }
   ],
   "source": [
    "y_hat_dev = []\n",
    "with torch.no_grad():\n",
    "    for val in X_dev:\n",
    "        y_hat = clf.forward(val)\n",
    "        y_hat_dev.append(y_hat.argmax().item())\n",
    "f1_score(y_dev, y_hat_dev)"
   ]
  },
  {
   "cell_type": "code",
   "execution_count": 12,
   "id": "fe7484df-f8e6-4403-8965-b96b2992c24e",
   "metadata": {},
   "outputs": [],
   "source": [
    "y_test = []\n",
    "with torch.no_grad():\n",
    "    for val in X_test:\n",
    "        y_hat = clf.forward(val)\n",
    "        y_test.append(y_hat.argmax().item())\n",
    "results_df = pd.DataFrame({'id': test_df.id, 'label': y_test})\n",
    "results_df.to_csv('EricNguyen_test_result.txt', sep='\\t', header=False, index=False)"
   ]
  }
 ],
 "metadata": {
  "colab": {
   "provenance": []
  },
  "kernelspec": {
   "display_name": "Python 3 (ipykernel)",
   "language": "python",
   "name": "python3"
  },
  "language_info": {
   "codemirror_mode": {
    "name": "ipython",
    "version": 3
   },
   "file_extension": ".py",
   "mimetype": "text/x-python",
   "name": "python",
   "nbconvert_exporter": "python",
   "pygments_lexer": "ipython3",
   "version": "3.9.13"
  }
 },
 "nbformat": 4,
 "nbformat_minor": 5
}
